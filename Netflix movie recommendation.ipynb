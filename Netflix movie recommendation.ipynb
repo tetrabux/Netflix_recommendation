{
 "cells": [
  {
   "cell_type": "code",
   "execution_count": 1,
   "metadata": {},
   "outputs": [],
   "source": [
    "from datetime import datetime\n",
    "import pandas as pd\n",
    "import numpy as np\n",
    "import matplotlib.pyplot as plt\n",
    "import os\n",
    "import seaborn as sns\n",
    "sns.set_style(\"whitegrid\")"
   ]
  },
  {
   "cell_type": "code",
   "execution_count": 2,
   "metadata": {},
   "outputs": [],
   "source": [
    "os.getcwd()\n",
    "os.chdir(r'D:\\New folder\\ML\\netflix-prize-data')"
   ]
  },
  {
   "cell_type": "code",
   "execution_count": 10,
   "metadata": {},
   "outputs": [
    {
     "name": "stdout",
     "output_type": "stream",
     "text": [
      "Time taken =  0:00:00.042889\n"
     ]
    }
   ],
   "source": [
    "start = datetime.now()\n",
    "\n",
    "if not os.path.isfile('data.csv'):\n",
    "    data = open('data.csv',mode='w')\n",
    "    \n",
    "    row = list()\n",
    "    \n",
    "    files=['combined_data_1.txt','combined_data_2.txt','combined_data_3.txt','combined_data_4.txt']\n",
    "    \n",
    "    for file in files:\n",
    "        with open(file) as f:\n",
    "            for line in f:\n",
    "                line = line.strip()\n",
    "                if line.endswith(':'):\n",
    "                    movie_id = line.replace(':','')\n",
    "                else:\n",
    "                    row = [x for x in line.split(',')]\n",
    "                    row.insert(0,movie_id)\n",
    "                    data.write(','.join(row))\n",
    "                    data.write('\\n')\n",
    "    data.close()\n",
    "    \n",
    "   \n",
    "print('Time taken = ', datetime.now()-start)"
   ]
  },
  {
   "cell_type": "code",
   "execution_count": 9,
   "metadata": {},
   "outputs": [
    {
     "data": {
      "text/html": [
       "<div>\n",
       "<style scoped>\n",
       "    .dataframe tbody tr th:only-of-type {\n",
       "        vertical-align: middle;\n",
       "    }\n",
       "\n",
       "    .dataframe tbody tr th {\n",
       "        vertical-align: top;\n",
       "    }\n",
       "\n",
       "    .dataframe thead th {\n",
       "        text-align: right;\n",
       "    }\n",
       "</style>\n",
       "<table border=\"1\" class=\"dataframe\">\n",
       "  <thead>\n",
       "    <tr style=\"text-align: right;\">\n",
       "      <th></th>\n",
       "      <th>movie</th>\n",
       "      <th>user</th>\n",
       "      <th>rating</th>\n",
       "      <th>date</th>\n",
       "    </tr>\n",
       "  </thead>\n",
       "  <tbody>\n",
       "    <tr>\n",
       "      <th>56431994</th>\n",
       "      <td>10341</td>\n",
       "      <td>510180</td>\n",
       "      <td>4</td>\n",
       "      <td>1999-11-11</td>\n",
       "    </tr>\n",
       "    <tr>\n",
       "      <th>9056171</th>\n",
       "      <td>1798</td>\n",
       "      <td>510180</td>\n",
       "      <td>5</td>\n",
       "      <td>1999-11-11</td>\n",
       "    </tr>\n",
       "    <tr>\n",
       "      <th>58698779</th>\n",
       "      <td>10774</td>\n",
       "      <td>510180</td>\n",
       "      <td>3</td>\n",
       "      <td>1999-11-11</td>\n",
       "    </tr>\n",
       "    <tr>\n",
       "      <th>48101611</th>\n",
       "      <td>8651</td>\n",
       "      <td>510180</td>\n",
       "      <td>2</td>\n",
       "      <td>1999-11-11</td>\n",
       "    </tr>\n",
       "    <tr>\n",
       "      <th>81893208</th>\n",
       "      <td>14660</td>\n",
       "      <td>510180</td>\n",
       "      <td>2</td>\n",
       "      <td>1999-11-11</td>\n",
       "    </tr>\n",
       "    <tr>\n",
       "      <th>20393918</th>\n",
       "      <td>3870</td>\n",
       "      <td>510180</td>\n",
       "      <td>2</td>\n",
       "      <td>1999-11-11</td>\n",
       "    </tr>\n",
       "    <tr>\n",
       "      <th>46516889</th>\n",
       "      <td>8357</td>\n",
       "      <td>510180</td>\n",
       "      <td>4</td>\n",
       "      <td>1999-11-11</td>\n",
       "    </tr>\n",
       "    <tr>\n",
       "      <th>89491833</th>\n",
       "      <td>15894</td>\n",
       "      <td>510180</td>\n",
       "      <td>3</td>\n",
       "      <td>1999-11-11</td>\n",
       "    </tr>\n",
       "    <tr>\n",
       "      <th>49973109</th>\n",
       "      <td>9003</td>\n",
       "      <td>510180</td>\n",
       "      <td>3</td>\n",
       "      <td>1999-11-11</td>\n",
       "    </tr>\n",
       "    <tr>\n",
       "      <th>51805125</th>\n",
       "      <td>9392</td>\n",
       "      <td>510180</td>\n",
       "      <td>3</td>\n",
       "      <td>1999-11-11</td>\n",
       "    </tr>\n",
       "  </tbody>\n",
       "</table>\n",
       "</div>"
      ],
      "text/plain": [
       "          movie    user  rating        date\n",
       "56431994  10341  510180       4  1999-11-11\n",
       "9056171    1798  510180       5  1999-11-11\n",
       "58698779  10774  510180       3  1999-11-11\n",
       "48101611   8651  510180       2  1999-11-11\n",
       "81893208  14660  510180       2  1999-11-11\n",
       "20393918   3870  510180       2  1999-11-11\n",
       "46516889   8357  510180       4  1999-11-11\n",
       "89491833  15894  510180       3  1999-11-11\n",
       "49973109   9003  510180       3  1999-11-11\n",
       "51805125   9392  510180       3  1999-11-11"
      ]
     },
     "execution_count": 9,
     "metadata": {},
     "output_type": "execute_result"
    }
   ],
   "source": [
    "data = pd.read_csv('data.csv',names=['movie','user','rating','date'])\n",
    "data.sort_values(by='date',inplace=True)\n",
    "data.head(10)"
   ]
  },
  {
   "cell_type": "code",
   "execution_count": 10,
   "metadata": {},
   "outputs": [
    {
     "data": {
      "text/plain": [
       "count    1.004805e+08\n",
       "mean     3.604290e+00\n",
       "std      1.085219e+00\n",
       "min      1.000000e+00\n",
       "25%      3.000000e+00\n",
       "50%      4.000000e+00\n",
       "75%      4.000000e+00\n",
       "max      5.000000e+00\n",
       "Name: rating, dtype: float64"
      ]
     },
     "execution_count": 10,
     "metadata": {},
     "output_type": "execute_result"
    }
   ],
   "source": [
    "data.describe()['rating']"
   ]
  },
  {
   "cell_type": "code",
   "execution_count": 11,
   "metadata": {},
   "outputs": [
    {
     "data": {
      "text/plain": [
       "movie     False\n",
       "user      False\n",
       "rating    False\n",
       "date      False\n",
       "dtype: bool"
      ]
     },
     "execution_count": 11,
     "metadata": {},
     "output_type": "execute_result"
    }
   ],
   "source": [
    "data.isnull().any()"
   ]
  },
  {
   "cell_type": "code",
   "execution_count": 12,
   "metadata": {},
   "outputs": [
    {
     "name": "stdout",
     "output_type": "stream",
     "text": [
      "0\n"
     ]
    }
   ],
   "source": [
    "duplicate = data.duplicated(['movie','user','rating'])\n",
    "dup_sum = sum(duplicate)\n",
    "print(dup_sum)"
   ]
  },
  {
   "cell_type": "code",
   "execution_count": 13,
   "metadata": {},
   "outputs": [
    {
     "data": {
      "text/plain": [
       "(100480507, 4)"
      ]
     },
     "execution_count": 13,
     "metadata": {},
     "output_type": "execute_result"
    }
   ],
   "source": [
    "data.shape"
   ]
  },
  {
   "cell_type": "code",
   "execution_count": 14,
   "metadata": {},
   "outputs": [
    {
     "name": "stdout",
     "output_type": "stream",
     "text": [
      "480189\n",
      "17770\n"
     ]
    }
   ],
   "source": [
    "print(len(np.unique(data.user)))\n",
    "print(len(np.unique(data.movie)))"
   ]
  },
  {
   "cell_type": "code",
   "execution_count": 11,
   "metadata": {},
   "outputs": [],
   "source": [
    "if not os.path.isfile('train.csv'):\n",
    "    data.iloc[:int(data.shape[0]*0.80)].to_csv('train.csv',index=False)\n",
    "\n",
    "if not os.path.isfile('test.csv'):\n",
    "    data.iloc[int(data.shape[0]*0.80):].to_csv('test.csv',index=False)\n",
    "    \n",
    "train = pd.read_csv('train.csv')\n",
    "test = pd.read_csv('test.csv')\n"
   ]
  },
  {
   "cell_type": "code",
   "execution_count": 16,
   "metadata": {},
   "outputs": [
    {
     "data": {
      "text/html": [
       "<div>\n",
       "<style scoped>\n",
       "    .dataframe tbody tr th:only-of-type {\n",
       "        vertical-align: middle;\n",
       "    }\n",
       "\n",
       "    .dataframe tbody tr th {\n",
       "        vertical-align: top;\n",
       "    }\n",
       "\n",
       "    .dataframe thead th {\n",
       "        text-align: right;\n",
       "    }\n",
       "</style>\n",
       "<table border=\"1\" class=\"dataframe\">\n",
       "  <thead>\n",
       "    <tr style=\"text-align: right;\">\n",
       "      <th></th>\n",
       "      <th>movie</th>\n",
       "      <th>user</th>\n",
       "      <th>rating</th>\n",
       "      <th>date</th>\n",
       "    </tr>\n",
       "  </thead>\n",
       "  <tbody>\n",
       "    <tr>\n",
       "      <th>0</th>\n",
       "      <td>10341</td>\n",
       "      <td>510180</td>\n",
       "      <td>4</td>\n",
       "      <td>1999-11-11</td>\n",
       "    </tr>\n",
       "    <tr>\n",
       "      <th>1</th>\n",
       "      <td>1798</td>\n",
       "      <td>510180</td>\n",
       "      <td>5</td>\n",
       "      <td>1999-11-11</td>\n",
       "    </tr>\n",
       "    <tr>\n",
       "      <th>2</th>\n",
       "      <td>10774</td>\n",
       "      <td>510180</td>\n",
       "      <td>3</td>\n",
       "      <td>1999-11-11</td>\n",
       "    </tr>\n",
       "    <tr>\n",
       "      <th>3</th>\n",
       "      <td>8651</td>\n",
       "      <td>510180</td>\n",
       "      <td>2</td>\n",
       "      <td>1999-11-11</td>\n",
       "    </tr>\n",
       "    <tr>\n",
       "      <th>4</th>\n",
       "      <td>14660</td>\n",
       "      <td>510180</td>\n",
       "      <td>2</td>\n",
       "      <td>1999-11-11</td>\n",
       "    </tr>\n",
       "  </tbody>\n",
       "</table>\n",
       "</div>"
      ],
      "text/plain": [
       "   movie    user  rating        date\n",
       "0  10341  510180       4  1999-11-11\n",
       "1   1798  510180       5  1999-11-11\n",
       "2  10774  510180       3  1999-11-11\n",
       "3   8651  510180       2  1999-11-11\n",
       "4  14660  510180       2  1999-11-11"
      ]
     },
     "execution_count": 16,
     "metadata": {},
     "output_type": "execute_result"
    }
   ],
   "source": [
    "train.head()"
   ]
  },
  {
   "cell_type": "code",
   "execution_count": 17,
   "metadata": {},
   "outputs": [
    {
     "data": {
      "text/html": [
       "<div>\n",
       "<style scoped>\n",
       "    .dataframe tbody tr th:only-of-type {\n",
       "        vertical-align: middle;\n",
       "    }\n",
       "\n",
       "    .dataframe tbody tr th {\n",
       "        vertical-align: top;\n",
       "    }\n",
       "\n",
       "    .dataframe thead th {\n",
       "        text-align: right;\n",
       "    }\n",
       "</style>\n",
       "<table border=\"1\" class=\"dataframe\">\n",
       "  <thead>\n",
       "    <tr style=\"text-align: right;\">\n",
       "      <th></th>\n",
       "      <th>movie</th>\n",
       "      <th>user</th>\n",
       "      <th>rating</th>\n",
       "      <th>date</th>\n",
       "    </tr>\n",
       "  </thead>\n",
       "  <tbody>\n",
       "    <tr>\n",
       "      <th>0</th>\n",
       "      <td>5926</td>\n",
       "      <td>2294429</td>\n",
       "      <td>2</td>\n",
       "      <td>2005-08-08</td>\n",
       "    </tr>\n",
       "    <tr>\n",
       "      <th>1</th>\n",
       "      <td>10158</td>\n",
       "      <td>1743373</td>\n",
       "      <td>4</td>\n",
       "      <td>2005-08-08</td>\n",
       "    </tr>\n",
       "    <tr>\n",
       "      <th>2</th>\n",
       "      <td>17064</td>\n",
       "      <td>381625</td>\n",
       "      <td>5</td>\n",
       "      <td>2005-08-08</td>\n",
       "    </tr>\n",
       "    <tr>\n",
       "      <th>3</th>\n",
       "      <td>1443</td>\n",
       "      <td>1252933</td>\n",
       "      <td>5</td>\n",
       "      <td>2005-08-08</td>\n",
       "    </tr>\n",
       "    <tr>\n",
       "      <th>4</th>\n",
       "      <td>1201</td>\n",
       "      <td>1434500</td>\n",
       "      <td>4</td>\n",
       "      <td>2005-08-08</td>\n",
       "    </tr>\n",
       "  </tbody>\n",
       "</table>\n",
       "</div>"
      ],
      "text/plain": [
       "   movie     user  rating        date\n",
       "0   5926  2294429       2  2005-08-08\n",
       "1  10158  1743373       4  2005-08-08\n",
       "2  17064   381625       5  2005-08-08\n",
       "3   1443  1252933       5  2005-08-08\n",
       "4   1201  1434500       4  2005-08-08"
      ]
     },
     "execution_count": 17,
     "metadata": {},
     "output_type": "execute_result"
    }
   ],
   "source": [
    "test.head()"
   ]
  },
  {
   "cell_type": "code",
   "execution_count": 18,
   "metadata": {},
   "outputs": [],
   "source": [
    "def human(num,units='M'):\n",
    "    units = units.lower()\n",
    "    num = float(num)\n",
    "    if units == 'k':\n",
    "        return str(num/10**3) + 'K'\n",
    "    \n",
    "    if units == 'm':\n",
    "        return str(num/10**6) + 'M'\n",
    "    \n",
    "    if units == 'b':\n",
    "        return str(num/10**9) + 'B'"
   ]
  },
  {
   "cell_type": "code",
   "execution_count": 19,
   "metadata": {},
   "outputs": [
    {
     "data": {
      "text/plain": [
       "<AxesSubplot:xlabel='rating', ylabel='count'>"
      ]
     },
     "execution_count": 19,
     "metadata": {},
     "output_type": "execute_result"
    },
    {
     "data": {
      "image/png": "[encoded data removed]",
      "text/plain": [
       "<Figure size 432x288 with 1 Axes>"
      ]
     },
     "metadata": {},
     "output_type": "display_data"
    }
   ],
   "source": [
    "sns.countplot(train.rating)"
   ]
  },
  {
   "cell_type": "code",
   "execution_count": 20,
   "metadata": {},
   "outputs": [
    {
     "data": {
      "text/plain": [
       "user\n",
       "305344     17112\n",
       "2439493    15896\n",
       "387418     15402\n",
       "1639792     9767\n",
       "1461435     9447\n",
       "Name: rating, dtype: int64"
      ]
     },
     "execution_count": 20,
     "metadata": {},
     "output_type": "execute_result"
    }
   ],
   "source": [
    "user_rating = train.groupby(by='user')['rating'].count().sort_values(ascending=False)\n",
    "\n",
    "user_rating.head()"
   ]
  },
  {
   "cell_type": "code",
   "execution_count": 21,
   "metadata": {},
   "outputs": [
    {
     "data": {
      "text/plain": [
       "user\n",
       "305344     17112\n",
       "2439493    15896\n",
       "387418     15402\n",
       "1639792     9767\n",
       "1461435     9447\n",
       "           ...  \n",
       "1284444        1\n",
       "2367651        1\n",
       "1442367        1\n",
       "1594466        1\n",
       "1041141        1\n",
       "Name: rating, Length: 405036, dtype: int64"
      ]
     },
     "execution_count": 21,
     "metadata": {},
     "output_type": "execute_result"
    }
   ],
   "source": [
    "user_rating.head(-5)"
   ]
  },
  {
   "cell_type": "code",
   "execution_count": 22,
   "metadata": {},
   "outputs": [
    {
     "data": {
      "text/plain": [
       "<AxesSubplot:>"
      ]
     },
     "execution_count": 22,
     "metadata": {},
     "output_type": "execute_result"
    },
    {
     "data": {
      "image/png": "[encoded data removed]",
      "text/plain": [
       "<Figure size 432x288 with 1 Axes>"
      ]
     },
     "metadata": {},
     "output_type": "display_data"
    }
   ],
   "source": [
    "sns.kdeplot(user_rating,shade=True)"
   ]
  },
  {
   "cell_type": "code",
   "execution_count": 23,
   "metadata": {},
   "outputs": [
    {
     "data": {
      "text/plain": [
       "<AxesSubplot:>"
      ]
     },
     "execution_count": 23,
     "metadata": {},
     "output_type": "execute_result"
    },
    {
     "data": {
      "image/png": "[encoded data removed]",
      "text/plain": [
       "<Figure size 432x288 with 1 Axes>"
      ]
     },
     "metadata": {},
     "output_type": "display_data"
    }
   ],
   "source": [
    "sns.kdeplot(user_rating,shade=True,cumulative=True)"
   ]
  },
  {
   "cell_type": "code",
   "execution_count": 24,
   "metadata": {},
   "outputs": [
    {
     "data": {
      "text/plain": [
       "count    405041.000000\n",
       "mean        198.459921\n",
       "std         290.793238\n",
       "min           1.000000\n",
       "25%          34.000000\n",
       "50%          89.000000\n",
       "75%         245.000000\n",
       "max       17112.000000\n",
       "Name: rating, dtype: float64"
      ]
     },
     "execution_count": 24,
     "metadata": {},
     "output_type": "execute_result"
    }
   ],
   "source": [
    " user_rating.describe()"
   ]
  },
  {
   "cell_type": "code",
   "execution_count": 26,
   "metadata": {},
   "outputs": [
    {
     "data": {
      "text/plain": [
       "movie\n",
       "5317     179684\n",
       "15124    176811\n",
       "1905     160062\n",
       "6287     155787\n",
       "14313    153899\n",
       "Name: rating, dtype: int64"
      ]
     },
     "execution_count": 26,
     "metadata": {},
     "output_type": "execute_result"
    }
   ],
   "source": [
    "movie_rating = train.groupby(by='movie')['rating'].count().sort_values(ascending=False)\n",
    "\n",
    "movie_rating.head()"
   ]
  },
  {
   "cell_type": "code",
   "execution_count": 27,
   "metadata": {},
   "outputs": [
    {
     "data": {
      "text/plain": [
       "<AxesSubplot:>"
      ]
     },
     "execution_count": 27,
     "metadata": {},
     "output_type": "execute_result"
    },
    {
     "data": {
      "image/png": "[encoded data removed]",
      "text/plain": [
       "<Figure size 432x288 with 1 Axes>"
      ]
     },
     "metadata": {},
     "output_type": "display_data"
    }
   ],
   "source": [
    "sns.kdeplot(movie_rating,shade=True)"
   ]
  },
  {
   "cell_type": "code",
   "execution_count": 28,
   "metadata": {},
   "outputs": [
    {
     "data": {
      "text/plain": [
       "[<matplotlib.lines.Line2D at 0x21e8444fd48>]"
      ]
     },
     "execution_count": 28,
     "metadata": {},
     "output_type": "execute_result"
    },
    {
     "data": {
      "image/png": "[encoded data removed]",
      "text/plain": [
       "<Figure size 432x288 with 1 Axes>"
      ]
     },
     "metadata": {},
     "output_type": "display_data"
    }
   ],
   "source": [
    "plt.plot(movie_rating.values)"
   ]
  },
  {
   "cell_type": "code",
   "execution_count": 5,
   "metadata": {},
   "outputs": [],
   "source": [
    "from scipy import sparse"
   ]
  },
  {
   "cell_type": "code",
   "execution_count": 12,
   "metadata": {},
   "outputs": [
    {
     "name": "stdout",
     "output_type": "stream",
     "text": [
      "0:01:22.517217\n"
     ]
    }
   ],
   "source": [
    "start = datetime.now()\n",
    "\n",
    "if os.path.isfile('train_sparse_matrix.npz'):\n",
    "    train_sparse_matrix = sparse.load_npz('train_sparse_matrix.npz')\n",
    "    \n",
    "else:\n",
    "    train_sparse_matrix = sparse.csr_matrix((train.rating.values,(train.user.values,train.movie.values)),)\n",
    "    sparse.save_npz('train_sparse_matrix.npz',train_sparse_matrix)\n",
    "    \n",
    "print(datetime.now()-start)"
   ]
  },
  {
   "cell_type": "code",
   "execution_count": 13,
   "metadata": {},
   "outputs": [
    {
     "name": "stdout",
     "output_type": "stream",
     "text": [
      "0:00:01.590552\n"
     ]
    }
   ],
   "source": [
    "start = datetime.now()\n",
    "\n",
    "if os.path.isfile('test_sparse_matrix.npz'):\n",
    "    test_sparse_matrix = sparse.load_npz('test_sparse_matrix.npz')\n",
    "    \n",
    "else:\n",
    "    test_sparse_matrix = sparse.csr_matrix((test.rating.values,(test.user.values,test.movie.values)),)\n",
    "    sparse.save_npz('test_sparse_matrix.npz',test_sparse_matrix)\n",
    "    \n",
    "print(datetime.now()-start)"
   ]
  },
  {
   "cell_type": "code",
   "execution_count": 33,
   "metadata": {},
   "outputs": [
    {
     "name": "stdout",
     "output_type": "stream",
     "text": [
      "0.998292709259195\n"
     ]
    }
   ],
   "source": [
    "users,movies = train_sparse_matrix.shape\n",
    "\n",
    "elm = train_sparse_matrix.count_nonzero()\n",
    "\n",
    "print(1-elm/(users*movies))"
   ]
  },
  {
   "cell_type": "code",
   "execution_count": 34,
   "metadata": {},
   "outputs": [
    {
     "name": "stdout",
     "output_type": "stream",
     "text": [
      "0.9995731772988694\n"
     ]
    }
   ],
   "source": [
    "users1,movies1 = test_sparse_matrix.shape\n",
    "\n",
    "elm1 = test_sparse_matrix.count_nonzero()\n",
    "\n",
    "print(1-elm1/(users1*movies1))"
   ]
  },
  {
   "cell_type": "code",
   "execution_count": 35,
   "metadata": {},
   "outputs": [
    {
     "data": {
      "text/plain": [
       "(2649430, 17771)"
      ]
     },
     "execution_count": 35,
     "metadata": {},
     "output_type": "execute_result"
    }
   ],
   "source": [
    "train_sparse_matrix.shape"
   ]
  },
  {
   "cell_type": "code",
   "execution_count": 36,
   "metadata": {},
   "outputs": [
    {
     "data": {
      "text/plain": [
       "(2649430, 17771)"
      ]
     },
     "execution_count": 36,
     "metadata": {},
     "output_type": "execute_result"
    }
   ],
   "source": [
    "test_sparse_matrix.shape"
   ]
  },
  {
   "cell_type": "code",
   "execution_count": 20,
   "metadata": {},
   "outputs": [],
   "source": [
    "def get_avg_rating(matrix,user):\n",
    "    ax = 1 if user else 0\n",
    "    \n",
    "    sum_of_rating = matrix.sum(axis=ax).A1\n",
    "    \n",
    "    is_rated = matrix!=0\n",
    "    \n",
    "    no_of_rating = is_rated.sum(axis=ax).A1\n",
    "    \n",
    "    u,m = matrix.shape\n",
    "    \n",
    "    avg_rating = { i:sum_of_rating[i]/no_of_rating[i] for i in range(u if user else m) if  no_of_rating[i]!=0}\n",
    "    \n",
    "    return avg_rating"
   ]
  },
  {
   "cell_type": "code",
   "execution_count": 11,
   "metadata": {},
   "outputs": [
    {
     "ename": "NameError",
     "evalue": "name 'train_sparse_matrix' is not defined",
     "output_type": "error",
     "traceback": [
      "\u001b[1;31m---------------------------------------------------------------------------\u001b[0m",
      "\u001b[1;31mNameError\u001b[0m                                 Traceback (most recent call last)",
      "\u001b[1;32m<ipython-input-11-09940d27a06c>\u001b[0m in \u001b[0;36m<module>\u001b[1;34m\u001b[0m\n\u001b[0;32m      1\u001b[0m \u001b[0mtrain_avg\u001b[0m \u001b[1;33m=\u001b[0m \u001b[0mdict\u001b[0m\u001b[1;33m(\u001b[0m\u001b[1;33m)\u001b[0m\u001b[1;33m\u001b[0m\u001b[1;33m\u001b[0m\u001b[0m\n\u001b[0;32m      2\u001b[0m \u001b[1;33m\u001b[0m\u001b[0m\n\u001b[1;32m----> 3\u001b[1;33m \u001b[0mtrain_global_avg\u001b[0m \u001b[1;33m=\u001b[0m \u001b[0mtrain_sparse_matrix\u001b[0m\u001b[1;33m.\u001b[0m\u001b[0msum\u001b[0m\u001b[1;33m(\u001b[0m\u001b[1;33m)\u001b[0m\u001b[1;33m/\u001b[0m\u001b[0mtrain_sparse_matrix\u001b[0m\u001b[1;33m.\u001b[0m\u001b[0mcount_nonzero\u001b[0m\u001b[1;33m(\u001b[0m\u001b[1;33m)\u001b[0m\u001b[1;33m\u001b[0m\u001b[1;33m\u001b[0m\u001b[0m\n\u001b[0m\u001b[0;32m      4\u001b[0m \u001b[1;33m\u001b[0m\u001b[0m\n\u001b[0;32m      5\u001b[0m \u001b[0mtrain_avg\u001b[0m\u001b[1;33m[\u001b[0m\u001b[1;34m'global'\u001b[0m\u001b[1;33m]\u001b[0m \u001b[1;33m=\u001b[0m \u001b[0mtrain_global_avg\u001b[0m\u001b[1;33m\u001b[0m\u001b[1;33m\u001b[0m\u001b[0m\n",
      "\u001b[1;31mNameError\u001b[0m: name 'train_sparse_matrix' is not defined"
     ]
    }
   ],
   "source": [
    "train_avg = dict()\n",
    "\n",
    "train_global_avg = train_sparse_matrix.sum()/train_sparse_matrix.count_nonzero()\n",
    "\n",
    "train_avg['global'] = train_global_avg\n",
    "\n",
    "train_avg"
   ]
  },
  {
   "cell_type": "code",
   "execution_count": 39,
   "metadata": {},
   "outputs": [
    {
     "data": {
      "text/plain": [
       "3.3781094527363185"
      ]
     },
     "execution_count": 39,
     "metadata": {},
     "output_type": "execute_result"
    }
   ],
   "source": [
    "train_avg['user'] = get_avg_rating(train_sparse_matrix,1)\n",
    "train_avg['user'][10]"
   ]
  },
  {
   "cell_type": "code",
   "execution_count": 40,
   "metadata": {},
   "outputs": [
    {
     "data": {
      "text/plain": [
       "3.3038461538461537"
      ]
     },
     "execution_count": 40,
     "metadata": {},
     "output_type": "execute_result"
    }
   ],
   "source": [
    "train_avg['movie'] = get_avg_rating(train_sparse_matrix,0)\n",
    "train_avg['movie'][15]"
   ]
  },
  {
   "cell_type": "code",
   "execution_count": 41,
   "metadata": {},
   "outputs": [
    {
     "data": {
      "text/plain": [
       "<AxesSubplot:>"
      ]
     },
     "execution_count": 41,
     "metadata": {},
     "output_type": "execute_result"
    },
    {
     "data": {
      "image/png": "[encoded data removed]",
      "text/plain": [
       "<Figure size 432x288 with 1 Axes>"
      ]
     },
     "metadata": {},
     "output_type": "display_data"
    }
   ],
   "source": [
    "user_avg = [rate for rate in train_avg['user'].values()]\n",
    "sns.distplot(user_avg,hist = False,kde_kws = dict(cumulative=True))\n",
    "sns.distplot(user_avg,hist=False,)"
   ]
  },
  {
   "cell_type": "code",
   "execution_count": 42,
   "metadata": {},
   "outputs": [
    {
     "data": {
      "text/plain": [
       "<AxesSubplot:>"
      ]
     },
     "execution_count": 42,
     "metadata": {},
     "output_type": "execute_result"
    },
    {
     "data": {
      "image/png": "[encoded data removed]",
      "text/plain": [
       "<Figure size 432x288 with 1 Axes>"
      ]
     },
     "metadata": {},
     "output_type": "display_data"
    }
   ],
   "source": [
    "movie_avg = [rate for rate in train_avg['movie'].values()]\n",
    "sns.distplot(movie_avg,hist = False,kde_kws = dict(cumulative=True))\n",
    "sns.distplot(movie_avg,hist=False,)"
   ]
  },
  {
   "cell_type": "code",
   "execution_count": 43,
   "metadata": {},
   "outputs": [],
   "source": [
    "total_user = len(np.unique(data.user))\n",
    "user_train = len(train_avg['user'])\n",
    "new_users = total_user - user_train"
   ]
  },
  {
   "cell_type": "code",
   "execution_count": 44,
   "metadata": {},
   "outputs": [
    {
     "name": "stdout",
     "output_type": "stream",
     "text": [
      "75148\n",
      "0.15649671275268695\n"
     ]
    }
   ],
   "source": [
    "## clod start problem around 16%\n",
    "\n",
    "print(new_users)\n",
    "print(new_users/total_user)"
   ]
  },
  {
   "cell_type": "code",
   "execution_count": 45,
   "metadata": {},
   "outputs": [],
   "source": [
    "total_movie = len(np.unique(data.movie))\n",
    "movie_train = len(train_avg['movie'])\n",
    "new_movies = total_movie - movie_train"
   ]
  },
  {
   "cell_type": "code",
   "execution_count": 46,
   "metadata": {},
   "outputs": [
    {
     "name": "stdout",
     "output_type": "stream",
     "text": [
      "346\n",
      "0.019471018570624648\n"
     ]
    }
   ],
   "source": [
    "##new users ~~ around 2%\n",
    "\n",
    "print(new_movies)\n",
    "print(new_movies/total_movie)"
   ]
  },
  {
   "cell_type": "code",
   "execution_count": 4,
   "metadata": {},
   "outputs": [],
   "source": [
    "from sklearn.metrics.pairwise import cosine_similarity"
   ]
  },
  {
   "cell_type": "code",
   "execution_count": 48,
   "metadata": {},
   "outputs": [
    {
     "name": "stdout",
     "output_type": "stream",
     "text": [
      "(17771, 17771)\n",
      "0:19:41.057699\n"
     ]
    }
   ],
   "source": [
    "start = datetime.now()\n",
    "if not os.path.isfile('movie_movie_sim_sparse.npz'):\n",
    "    mov_mov_sparse = cosine_similarity(X=train_sparse_matrix.T,dense_output=False)\n",
    "    sparse.save_npz('mov_mov_sim_sparse.npz',mov_mov_sparse)\n",
    "    \n",
    "else:\n",
    "    mov_mov_sparse = sparse.load_npz('mov_mov_sim_sparse.npz')\n",
    "    \n",
    "print(mov_mov_sparse.shape)\n",
    "print(datetime.now()-start)"
   ]
  },
  {
   "cell_type": "code",
   "execution_count": 49,
   "metadata": {},
   "outputs": [],
   "source": [
    "mov_title = pd.read_csv('movie_titles.csv',sep=',',names=['mov_id','year_of_release','title'],index_col = 'mov_id',encoding='ISO-8859-1')"
   ]
  },
  {
   "cell_type": "code",
   "execution_count": 50,
   "metadata": {},
   "outputs": [
    {
     "data": {
      "text/html": [
       "<div>\n",
       "<style scoped>\n",
       "    .dataframe tbody tr th:only-of-type {\n",
       "        vertical-align: middle;\n",
       "    }\n",
       "\n",
       "    .dataframe tbody tr th {\n",
       "        vertical-align: top;\n",
       "    }\n",
       "\n",
       "    .dataframe thead th {\n",
       "        text-align: right;\n",
       "    }\n",
       "</style>\n",
       "<table border=\"1\" class=\"dataframe\">\n",
       "  <thead>\n",
       "    <tr style=\"text-align: right;\">\n",
       "      <th></th>\n",
       "      <th>year_of_release</th>\n",
       "      <th>title</th>\n",
       "    </tr>\n",
       "    <tr>\n",
       "      <th>mov_id</th>\n",
       "      <th></th>\n",
       "      <th></th>\n",
       "    </tr>\n",
       "  </thead>\n",
       "  <tbody>\n",
       "    <tr>\n",
       "      <th>1</th>\n",
       "      <td>2003.0</td>\n",
       "      <td>Dinosaur Planet</td>\n",
       "    </tr>\n",
       "    <tr>\n",
       "      <th>2</th>\n",
       "      <td>2004.0</td>\n",
       "      <td>Isle of Man TT 2004 Review</td>\n",
       "    </tr>\n",
       "    <tr>\n",
       "      <th>3</th>\n",
       "      <td>1997.0</td>\n",
       "      <td>Character</td>\n",
       "    </tr>\n",
       "    <tr>\n",
       "      <th>4</th>\n",
       "      <td>1994.0</td>\n",
       "      <td>Paula Abdul's Get Up &amp; Dance</td>\n",
       "    </tr>\n",
       "    <tr>\n",
       "      <th>5</th>\n",
       "      <td>2004.0</td>\n",
       "      <td>The Rise and Fall of ECW</td>\n",
       "    </tr>\n",
       "    <tr>\n",
       "      <th>6</th>\n",
       "      <td>1997.0</td>\n",
       "      <td>Sick</td>\n",
       "    </tr>\n",
       "    <tr>\n",
       "      <th>7</th>\n",
       "      <td>1992.0</td>\n",
       "      <td>8 Man</td>\n",
       "    </tr>\n",
       "    <tr>\n",
       "      <th>8</th>\n",
       "      <td>2004.0</td>\n",
       "      <td>What the #$*! Do We Know!?</td>\n",
       "    </tr>\n",
       "    <tr>\n",
       "      <th>9</th>\n",
       "      <td>1991.0</td>\n",
       "      <td>Class of Nuke 'Em High 2</td>\n",
       "    </tr>\n",
       "    <tr>\n",
       "      <th>10</th>\n",
       "      <td>2001.0</td>\n",
       "      <td>Fighter</td>\n",
       "    </tr>\n",
       "  </tbody>\n",
       "</table>\n",
       "</div>"
      ],
      "text/plain": [
       "        year_of_release                         title\n",
       "mov_id                                               \n",
       "1                2003.0               Dinosaur Planet\n",
       "2                2004.0    Isle of Man TT 2004 Review\n",
       "3                1997.0                     Character\n",
       "4                1994.0  Paula Abdul's Get Up & Dance\n",
       "5                2004.0      The Rise and Fall of ECW\n",
       "6                1997.0                          Sick\n",
       "7                1992.0                         8 Man\n",
       "8                2004.0    What the #$*! Do We Know!?\n",
       "9                1991.0      Class of Nuke 'Em High 2\n",
       "10               2001.0                       Fighter"
      ]
     },
     "execution_count": 50,
     "metadata": {},
     "output_type": "execute_result"
    }
   ],
   "source": [
    "mov_title.head(10)"
   ]
  },
  {
   "cell_type": "code",
   "execution_count": 51,
   "metadata": {},
   "outputs": [
    {
     "name": "stdout",
     "output_type": "stream",
     "text": [
      "year_of_release                1997\n",
      "title              Vampire Journals\n",
      "Name: 67, dtype: object\n"
     ]
    }
   ],
   "source": [
    "mv_id=67\n",
    "\n",
    "print(mov_title.loc[mv_id])"
   ]
  },
  {
   "cell_type": "code",
   "execution_count": 52,
   "metadata": {},
   "outputs": [
    {
     "name": "stdout",
     "output_type": "stream",
     "text": [
      "270\n"
     ]
    }
   ],
   "source": [
    "print(train_sparse_matrix[:,mv_id].count_nonzero())"
   ]
  },
  {
   "cell_type": "code",
   "execution_count": 53,
   "metadata": {},
   "outputs": [
    {
     "name": "stdout",
     "output_type": "stream",
     "text": [
      "17284\n"
     ]
    }
   ],
   "source": [
    "print(mov_mov_sparse[:,mv_id].count_nonzero())"
   ]
  },
  {
   "cell_type": "code",
   "execution_count": 54,
   "metadata": {},
   "outputs": [],
   "source": [
    "similarities = mov_mov_sparse[mv_id].toarray().ravel()\n",
    "similar_indices = similarities.argsort()[::-1][1:]\n",
    "\n",
    "similarities[similar_indices]\n",
    "\n",
    "sim_indices = similarities.argsort()[::-1][1:]"
   ]
  },
  {
   "cell_type": "code",
   "execution_count": 55,
   "metadata": {},
   "outputs": [
    {
     "data": {
      "image/png": "[encoded data removed]",
      "text/plain": [
       "<Figure size 432x288 with 1 Axes>"
      ]
     },
     "metadata": {},
     "output_type": "display_data"
    }
   ],
   "source": [
    "plt.plot(similarities[sim_indices],label = 'All movies')\n",
    "plt.plot(similarities[sim_indices[:100]],label = 'Top 100')\n",
    "plt.show()"
   ]
  },
  {
   "cell_type": "code",
   "execution_count": 56,
   "metadata": {},
   "outputs": [
    {
     "data": {
      "text/html": [
       "<div>\n",
       "<style scoped>\n",
       "    .dataframe tbody tr th:only-of-type {\n",
       "        vertical-align: middle;\n",
       "    }\n",
       "\n",
       "    .dataframe tbody tr th {\n",
       "        vertical-align: top;\n",
       "    }\n",
       "\n",
       "    .dataframe thead th {\n",
       "        text-align: right;\n",
       "    }\n",
       "</style>\n",
       "<table border=\"1\" class=\"dataframe\">\n",
       "  <thead>\n",
       "    <tr style=\"text-align: right;\">\n",
       "      <th></th>\n",
       "      <th>year_of_release</th>\n",
       "      <th>title</th>\n",
       "    </tr>\n",
       "    <tr>\n",
       "      <th>mov_id</th>\n",
       "      <th></th>\n",
       "      <th></th>\n",
       "    </tr>\n",
       "  </thead>\n",
       "  <tbody>\n",
       "    <tr>\n",
       "      <th>323</th>\n",
       "      <td>1999.0</td>\n",
       "      <td>Modern Vampires</td>\n",
       "    </tr>\n",
       "    <tr>\n",
       "      <th>4044</th>\n",
       "      <td>1998.0</td>\n",
       "      <td>Subspecies 4: Bloodstorm</td>\n",
       "    </tr>\n",
       "    <tr>\n",
       "      <th>1688</th>\n",
       "      <td>1993.0</td>\n",
       "      <td>To Sleep With a Vampire</td>\n",
       "    </tr>\n",
       "    <tr>\n",
       "      <th>13962</th>\n",
       "      <td>2001.0</td>\n",
       "      <td>Dracula: The Dark Prince</td>\n",
       "    </tr>\n",
       "    <tr>\n",
       "      <th>12053</th>\n",
       "      <td>1993.0</td>\n",
       "      <td>Dracula Rising</td>\n",
       "    </tr>\n",
       "    <tr>\n",
       "      <th>16279</th>\n",
       "      <td>2002.0</td>\n",
       "      <td>Vampires: Los Muertos</td>\n",
       "    </tr>\n",
       "    <tr>\n",
       "      <th>4667</th>\n",
       "      <td>1996.0</td>\n",
       "      <td>Vampirella</td>\n",
       "    </tr>\n",
       "    <tr>\n",
       "      <th>1900</th>\n",
       "      <td>1997.0</td>\n",
       "      <td>Club Vampire</td>\n",
       "    </tr>\n",
       "    <tr>\n",
       "      <th>13873</th>\n",
       "      <td>2001.0</td>\n",
       "      <td>The Breed</td>\n",
       "    </tr>\n",
       "    <tr>\n",
       "      <th>15867</th>\n",
       "      <td>2003.0</td>\n",
       "      <td>Dracula II: Ascension</td>\n",
       "    </tr>\n",
       "  </tbody>\n",
       "</table>\n",
       "</div>"
      ],
      "text/plain": [
       "        year_of_release                     title\n",
       "mov_id                                           \n",
       "323              1999.0           Modern Vampires\n",
       "4044             1998.0  Subspecies 4: Bloodstorm\n",
       "1688             1993.0   To Sleep With a Vampire\n",
       "13962            2001.0  Dracula: The Dark Prince\n",
       "12053            1993.0            Dracula Rising\n",
       "16279            2002.0     Vampires: Los Muertos\n",
       "4667             1996.0                Vampirella\n",
       "1900             1997.0              Club Vampire\n",
       "13873            2001.0                 The Breed\n",
       "15867            2003.0     Dracula II: Ascension"
      ]
     },
     "execution_count": 56,
     "metadata": {},
     "output_type": "execute_result"
    }
   ],
   "source": [
    "mov_title.loc[sim_indices[:10]]"
   ]
  },
  {
   "cell_type": "code",
   "execution_count": 57,
   "metadata": {},
   "outputs": [],
   "source": [
    "import surprise"
   ]
  },
  {
   "cell_type": "code",
   "execution_count": 58,
   "metadata": {},
   "outputs": [],
   "source": [
    "x_idx_train = np.random.choice(train_sparse_matrix.shape[0],30000,replace=False)\n",
    "y_idx_train = np.random.choice(train_sparse_matrix.shape[1],3000,replace=False)\n",
    "\n",
    "x_idx_test = np.random.choice(test_sparse_matrix.shape[0],30000,replace=False)\n",
    "y_idx_test = np.random.choice(test_sparse_matrix.shape[1],3000,replace=False)"
   ]
  },
  {
   "cell_type": "code",
   "execution_count": 59,
   "metadata": {},
   "outputs": [],
   "source": [
    "sample_train_sparse_matrix = train_sparse_matrix[x_idx_train,:]"
   ]
  },
  {
   "cell_type": "code",
   "execution_count": 60,
   "metadata": {},
   "outputs": [],
   "source": [
    "sample_train_sparse_matrix = sample_train_sparse_matrix[:,y_idx_train]"
   ]
  },
  {
   "cell_type": "code",
   "execution_count": 61,
   "metadata": {},
   "outputs": [
    {
     "data": {
      "text/plain": [
       "(30000, 3000)"
      ]
     },
     "execution_count": 61,
     "metadata": {},
     "output_type": "execute_result"
    }
   ],
   "source": [
    "sample_train_sparse_matrix.shape"
   ]
  },
  {
   "cell_type": "code",
   "execution_count": 62,
   "metadata": {},
   "outputs": [
    {
     "data": {
      "text/plain": [
       "(30000, 3000)"
      ]
     },
     "execution_count": 62,
     "metadata": {},
     "output_type": "execute_result"
    }
   ],
   "source": [
    "sample_test_sparse_matrix = test_sparse_matrix[x_idx_test,:]\n",
    "sample_test_sparse_matrix = sample_test_sparse_matrix[:,y_idx_test]\n",
    "\n",
    "sample_test_sparse_matrix.shape"
   ]
  },
  {
   "cell_type": "code",
   "execution_count": 63,
   "metadata": {},
   "outputs": [],
   "source": [
    "sparse.save_npz('sample_train_sparse_matrix.npz',sample_train_sparse_matrix)\n",
    "sparse.save_npz('sample_test_sparse_matrix.npz',sample_test_sparse_matrix)"
   ]
  },
  {
   "cell_type": "code",
   "execution_count": 64,
   "metadata": {},
   "outputs": [],
   "source": [
    "sample_train_avg = dict()"
   ]
  },
  {
   "cell_type": "code",
   "execution_count": 65,
   "metadata": {},
   "outputs": [
    {
     "data": {
      "text/plain": [
       "{'global': 3.539715232381123}"
      ]
     },
     "execution_count": 65,
     "metadata": {},
     "output_type": "execute_result"
    }
   ],
   "source": [
    "global_avg = sample_train_sparse_matrix.sum()/sample_train_sparse_matrix.count_nonzero()\n",
    "sample_train_avg['global'] = global_avg\n",
    "sample_train_avg"
   ]
  },
  {
   "cell_type": "code",
   "execution_count": 66,
   "metadata": {},
   "outputs": [],
   "source": [
    "sample_train_avg['movie'] = get_avg_rating(sample_train_sparse_matrix,0)"
   ]
  },
  {
   "cell_type": "code",
   "execution_count": 67,
   "metadata": {},
   "outputs": [],
   "source": [
    "sample_train_avg['user'] = get_avg_rating(sample_train_sparse_matrix,1)"
   ]
  },
  {
   "cell_type": "code",
   "execution_count": 68,
   "metadata": {},
   "outputs": [],
   "source": [
    "sample_train_users,sample_train_movies,sample_train_rating = sparse.find(sample_train_sparse_matrix)"
   ]
  },
  {
   "cell_type": "code",
   "execution_count": 69,
   "metadata": {},
   "outputs": [
    {
     "data": {
      "text/plain": [
       "134004"
      ]
     },
     "execution_count": 69,
     "metadata": {},
     "output_type": "execute_result"
    }
   ],
   "source": [
    "len(sample_train_rating)"
   ]
  },
  {
   "cell_type": "code",
   "execution_count": 71,
   "metadata": {},
   "outputs": [],
   "source": [
    "# start = datetime.now()\n",
    "# if not os.path.isfile('reg_train.csv'):\n",
    "#     print('preparing {} tuplesfor data set\\n'.format(len(sample_train_rating)))\n",
    "    \n",
    "#     with open('reg_train.csv',mode='w') as reg_data_file:\n",
    "#         count=0\n",
    "#         for(user,movie,rating) in zip(sample_train_users,sample_train_movies,sample_train_rating):\n",
    "#             st = datetime.now()\n",
    "            \n",
    "#             user_sim = cosine_similarity(sample_train_sparse_matrix[user],sample_train_sparse_matrix[movie])\n",
    "#             top_sim_user = user_sim.argsort()[::-1][1:]\n",
    "#             top_ratings = np.array(sample_train_sparse_matrix[top_sim_user,movie]).sort_values()\n",
    "                "
   ]
  },
  {
   "cell_type": "code",
   "execution_count": 73,
   "metadata": {},
   "outputs": [
    {
     "name": "stdout",
     "output_type": "stream",
     "text": [
      "6\n",
      "7\n",
      "10\n",
      "25\n",
      "33\n",
      "42\n",
      "59\n",
      "79\n",
      "83\n",
      "87\n",
      "94\n",
      "97\n",
      "131\n",
      "134\n",
      "142\n",
      "149\n",
      "158\n",
      "168\n",
      "169\n",
      "178\n",
      "183\n",
      "188\n",
      "189\n",
      "192\n",
      "195\n",
      "199\n",
      "201\n",
      "242\n",
      "247\n",
      "248\n",
      "261\n",
      "265\n",
      "266\n",
      "267\n",
      "268\n",
      "283\n",
      "291\n",
      "296\n",
      "298\n",
      "299\n",
      "301\n",
      "302\n",
      "304\n",
      "305\n",
      "307\n",
      "308\n",
      "310\n",
      "312\n",
      "314\n",
      "330\n",
      "331\n",
      "333\n",
      "352\n",
      "363\n",
      "368\n",
      "369\n",
      "379\n",
      "383\n",
      "384\n",
      "385\n",
      "392\n",
      "413\n",
      "416\n",
      "424\n",
      "437\n",
      "439\n",
      "440\n",
      "442\n",
      "453\n",
      "462\n",
      "470\n",
      "471\n",
      "477\n",
      "478\n",
      "479\n",
      "481\n",
      "485\n",
      "490\n",
      "491\n",
      "492\n",
      "495\n",
      "508\n",
      "515\n",
      "517\n",
      "527\n",
      "529\n",
      "536\n",
      "540\n",
      "544\n",
      "546\n",
      "550\n",
      "561\n",
      "576\n",
      "585\n",
      "592\n",
      "596\n",
      "602\n",
      "609\n",
      "614\n",
      "616\n",
      "623\n",
      "633\n",
      "657\n",
      "660\n",
      "663\n",
      "664\n",
      "684\n",
      "685\n",
      "688\n",
      "692\n",
      "695\n",
      "711\n",
      "719\n",
      "734\n",
      "735\n",
      "739\n",
      "742\n",
      "744\n",
      "748\n",
      "750\n",
      "756\n",
      "766\n",
      "767\n",
      "769\n",
      "781\n",
      "784\n",
      "785\n",
      "787\n",
      "788\n",
      "793\n",
      "798\n",
      "815\n",
      "825\n",
      "829\n",
      "834\n",
      "840\n",
      "857\n",
      "870\n",
      "873\n",
      "877\n",
      "906\n",
      "909\n",
      "911\n",
      "915\n",
      "921\n",
      "933\n",
      "939\n",
      "944\n",
      "952\n",
      "955\n",
      "962\n",
      "967\n",
      "968\n",
      "979\n",
      "981\n",
      "989\n",
      "997\n",
      "998\n",
      "1007\n",
      "1020\n",
      "1024\n",
      "1034\n",
      "1038\n",
      "1044\n",
      "1047\n",
      "1059\n",
      "1067\n",
      "1069\n",
      "1070\n",
      "1079\n",
      "1082\n",
      "1086\n",
      "1088\n",
      "1097\n",
      "1109\n",
      "1135\n",
      "1146\n",
      "1179\n",
      "1188\n",
      "1206\n",
      "1215\n",
      "1221\n",
      "1222\n",
      "1236\n",
      "1243\n",
      "1248\n",
      "1268\n",
      "1271\n",
      "1276\n",
      "1285\n",
      "1295\n",
      "1298\n",
      "1310\n",
      "1315\n",
      "1323\n",
      "1326\n",
      "1327\n",
      "1328\n",
      "1333\n",
      "1346\n",
      "1350\n",
      "1353\n",
      "1355\n",
      "1357\n",
      "1358\n",
      "1365\n",
      "1374\n",
      "1375\n",
      "1378\n",
      "1420\n",
      "1427\n",
      "1442\n",
      "1457\n",
      "1465\n",
      "1475\n",
      "1481\n",
      "1493\n",
      "1498\n",
      "1500\n",
      "1512\n",
      "1518\n",
      "1522\n",
      "1523\n",
      "1527\n",
      "1531\n",
      "1533\n",
      "1534\n",
      "1553\n",
      "1561\n",
      "1573\n",
      "1576\n",
      "1582\n",
      "1588\n",
      "1593\n",
      "1611\n",
      "1619\n",
      "1626\n",
      "1636\n",
      "1650\n",
      "1658\n",
      "1664\n",
      "1671\n",
      "1689\n",
      "1691\n",
      "1693\n",
      "1702\n",
      "1715\n",
      "1717\n",
      "1722\n",
      "1723\n",
      "1724\n",
      "1726\n",
      "1730\n",
      "1734\n",
      "1736\n",
      "1738\n",
      "1746\n",
      "1750\n",
      "1760\n",
      "1768\n",
      "1771\n",
      "1779\n",
      "1789\n",
      "1791\n",
      "1798\n",
      "1801\n",
      "1810\n",
      "1811\n",
      "1818\n",
      "1819\n",
      "1830\n",
      "1831\n",
      "1846\n",
      "1856\n",
      "1871\n",
      "1882\n",
      "1888\n",
      "1890\n",
      "1893\n",
      "1894\n",
      "1897\n",
      "1900\n",
      "1911\n",
      "1912\n",
      "1913\n",
      "1918\n",
      "1921\n",
      "1922\n",
      "1928\n",
      "1933\n",
      "1940\n",
      "1942\n",
      "1944\n",
      "1947\n",
      "1969\n",
      "1982\n",
      "1983\n",
      "1985\n",
      "1994\n",
      "2000\n",
      "2003\n",
      "2007\n",
      "2025\n",
      "2026\n",
      "2027\n",
      "2030\n",
      "2040\n",
      "2050\n",
      "2057\n",
      "2104\n",
      "2110\n",
      "2114\n",
      "2122\n",
      "2128\n",
      "2133\n",
      "2138\n",
      "2142\n",
      "2150\n",
      "2157\n",
      "2161\n",
      "2163\n",
      "2165\n",
      "2168\n",
      "2172\n",
      "2177\n",
      "2183\n",
      "2189\n",
      "2190\n",
      "2196\n",
      "2198\n",
      "2203\n",
      "2213\n",
      "2214\n",
      "2223\n",
      "2225\n",
      "2233\n",
      "2242\n",
      "2250\n",
      "2264\n",
      "2267\n",
      "2270\n",
      "2273\n",
      "2276\n",
      "2280\n",
      "2282\n",
      "2295\n",
      "2297\n",
      "2304\n",
      "2305\n",
      "2307\n",
      "2308\n",
      "2317\n",
      "2333\n",
      "2338\n",
      "2347\n",
      "2363\n",
      "2379\n",
      "2385\n",
      "2397\n",
      "2404\n",
      "2411\n",
      "2412\n",
      "2431\n",
      "2442\n",
      "2448\n",
      "2455\n",
      "2458\n",
      "2467\n",
      "2469\n",
      "2475\n",
      "2479\n",
      "2492\n",
      "2504\n",
      "2511\n",
      "2514\n",
      "2519\n",
      "2530\n",
      "2534\n",
      "2549\n",
      "2551\n",
      "2555\n",
      "2563\n",
      "2583\n",
      "2599\n",
      "2605\n",
      "2612\n",
      "2614\n",
      "2618\n",
      "2623\n",
      "2624\n",
      "2630\n",
      "2636\n",
      "2639\n",
      "2662\n",
      "2678\n",
      "2680\n",
      "2693\n",
      "2697\n",
      "2701\n",
      "2704\n",
      "2705\n",
      "2720\n",
      "2723\n",
      "2743\n",
      "2746\n",
      "2753\n",
      "2754\n",
      "2757\n",
      "2762\n",
      "2775\n",
      "2781\n",
      "2782\n",
      "2790\n",
      "2794\n",
      "2807\n",
      "2820\n",
      "2831\n",
      "2844\n",
      "2848\n",
      "2862\n",
      "2869\n",
      "2878\n",
      "2882\n",
      "2892\n",
      "2894\n",
      "2900\n",
      "2905\n",
      "2909\n",
      "2913\n",
      "2922\n",
      "2945\n",
      "2947\n",
      "2960\n",
      "2975\n",
      "2976\n",
      "2977\n",
      "2980\n",
      "2994\n",
      "2996\n",
      "3010\n",
      "3012\n",
      "3018\n",
      "3031\n",
      "3035\n",
      "3040\n",
      "3046\n",
      "3049\n",
      "3053\n",
      "3060\n",
      "3069\n",
      "3094\n",
      "3097\n",
      "3098\n",
      "3104\n",
      "3132\n",
      "3157\n",
      "3168\n",
      "3172\n",
      "3174\n",
      "3184\n",
      "3186\n",
      "3188\n",
      "3195\n",
      "3200\n",
      "3204\n",
      "3210\n",
      "3221\n",
      "3224\n",
      "3232\n",
      "3240\n",
      "3247\n",
      "3260\n",
      "3263\n",
      "3284\n",
      "3285\n",
      "3290\n",
      "3292\n",
      "3295\n",
      "3300\n",
      "3303\n",
      "3308\n",
      "3321\n",
      "3323\n",
      "3328\n",
      "3330\n",
      "3335\n",
      "3344\n",
      "3350\n",
      "3354\n",
      "3356\n",
      "3358\n",
      "3363\n",
      "3373\n",
      "3377\n",
      "3378\n",
      "3386\n",
      "3392\n",
      "3402\n",
      "3404\n",
      "3405\n"
     ]
    }
   ],
   "source": [
    "row_index, col_index = train_sparse_matrix.nonzero()\n",
    "rows = np.unique(row_index)\n",
    "for i in rows[:500]:\n",
    "    print(i)"
   ]
  },
  {
   "cell_type": "markdown",
   "metadata": {},
   "source": [
    "## final for user_user similarity for 500 users"
   ]
  },
  {
   "cell_type": "code",
   "execution_count": 74,
   "metadata": {},
   "outputs": [
    {
     "name": "stdout",
     "output_type": "stream",
     "text": [
      "For 50 users = 0:23:33.409385sec\n",
      "For 100 users = 0:37:45.019276sec\n",
      "For 150 users = 0:57:12.389593sec\n",
      "For 200 users = 1:13:55.198817sec\n",
      "For 250 users = 1:30:45.937763sec\n",
      "For 300 users = 1:46:03.405731sec\n",
      "For 350 users = 2:02:30.242471sec\n",
      "For 400 users = 2:18:45.991222sec\n",
      "For 450 users = 2:34:59.400251sec\n"
     ]
    },
    {
     "ename": "IndexError",
     "evalue": "index 3405 is out of bounds for axis 0 with size 3405",
     "output_type": "error",
     "traceback": [
      "\u001b[1;31m---------------------------------------------------------------------------\u001b[0m",
      "\u001b[1;31mIndexError\u001b[0m                                Traceback (most recent call last)",
      "\u001b[1;32m<ipython-input-74-c527c01b9a95>\u001b[0m in \u001b[0;36m<module>\u001b[1;34m\u001b[0m\n\u001b[0;32m     15\u001b[0m     \u001b[0mtop_similar_idx\u001b[0m \u001b[1;33m=\u001b[0m \u001b[0msim\u001b[0m\u001b[1;33m.\u001b[0m\u001b[0margsort\u001b[0m\u001b[1;33m(\u001b[0m\u001b[1;33m)\u001b[0m\u001b[1;33m[\u001b[0m\u001b[1;33m-\u001b[0m\u001b[0mtop\u001b[0m\u001b[1;33m:\u001b[0m\u001b[1;33m]\u001b[0m\u001b[1;33m\u001b[0m\u001b[1;33m\u001b[0m\u001b[0m\n\u001b[0;32m     16\u001b[0m     \u001b[0mtop_similar\u001b[0m \u001b[1;33m=\u001b[0m \u001b[0msim\u001b[0m\u001b[1;33m[\u001b[0m\u001b[0mtop_similar_idx\u001b[0m\u001b[1;33m]\u001b[0m\u001b[1;33m\u001b[0m\u001b[1;33m\u001b[0m\u001b[0m\n\u001b[1;32m---> 17\u001b[1;33m     \u001b[0msimilar_mat\u001b[0m\u001b[1;33m[\u001b[0m\u001b[0mrow\u001b[0m\u001b[1;33m]\u001b[0m \u001b[1;33m=\u001b[0m \u001b[0mtop_similar\u001b[0m\u001b[1;33m\u001b[0m\u001b[1;33m\u001b[0m\u001b[0m\n\u001b[0m\u001b[0;32m     18\u001b[0m \u001b[1;33m\u001b[0m\u001b[0m\n\u001b[0;32m     19\u001b[0m     \u001b[0mrow_time_end\u001b[0m \u001b[1;33m=\u001b[0m \u001b[0mdatetime\u001b[0m\u001b[1;33m.\u001b[0m\u001b[0mnow\u001b[0m\u001b[1;33m(\u001b[0m\u001b[1;33m)\u001b[0m\u001b[1;33m.\u001b[0m\u001b[0mtimestamp\u001b[0m\u001b[1;33m(\u001b[0m\u001b[1;33m)\u001b[0m \u001b[1;33m-\u001b[0m \u001b[0mrow_time\u001b[0m\u001b[1;33m\u001b[0m\u001b[1;33m\u001b[0m\u001b[0m\n",
      "\u001b[1;31mIndexError\u001b[0m: index 3405 is out of bounds for axis 0 with size 3405"
     ]
    }
   ],
   "source": [
    "\n",
    "top=500\n",
    "start = datetime.now()\n",
    "\n",
    "similar_mat = np.zeros(1702500).reshape(3405,500) ##for 500 users\n",
    "\n",
    "timeTaken = []\n",
    "so_far = 0\n",
    "\n",
    "for row in rows[:top]:\n",
    "    so_far += 1\n",
    "    row_time = datetime.now().timestamp()\n",
    "    sim = cosine_similarity(train_sparse_matrix.getrow(row),train_sparse_matrix).ravel()\n",
    "    \n",
    "    top_similar_idx = sim.argsort()[-top:]\n",
    "    top_similar = sim[top_similar_idx]\n",
    "    similar_mat[row] = top_similar\n",
    "    \n",
    "    row_time_end = datetime.now().timestamp() - row_time\n",
    "    \n",
    "    if so_far%50 == 0:\n",
    "        print('For {} users = {}sec'.format(so_far,(datetime.now()-start)))\n",
    "\n",
    "print('avgtime for 1 user = {}'+str(sum(datetime.now-start)/100))\n",
    "\n",
    "\n"
   ]
  },
  {
   "cell_type": "markdown",
   "metadata": {},
   "source": [
    "Won't do the step above again as the number \n",
    "## 3405 should have been 3406 \n",
    "but the average time per user we found out to be is around \n",
    "## 30 secs per user\n",
    "and we have dataset of around \n",
    "## 2,700,000 users \n",
    "which will take \n",
    "## around 193 days\n",
    "to compute on hardware like this so we will have to get another approach which will be \n",
    "## movie_movie simiarity"
   ]
  },
  {
   "cell_type": "code",
   "execution_count": 78,
   "metadata": {},
   "outputs": [],
   "source": [
    "mov_ids = np.unique(mov_mov_sparse.nonzero())"
   ]
  },
  {
   "cell_type": "code",
   "execution_count": 79,
   "metadata": {},
   "outputs": [],
   "source": [
    "#getting top 100 similar movies of each movie in an array"
   ]
  },
  {
   "cell_type": "code",
   "execution_count": 81,
   "metadata": {},
   "outputs": [],
   "source": [
    "sim_mov_dict = dict()\n",
    "for mov in mov_ids:\n",
    "    sim = np.argsort(np.array(mov_mov_sparse[mov]).ravel())[:100]\n",
    "    sim_mov_dict[mov]=sim"
   ]
  },
  {
   "cell_type": "code",
   "execution_count": 84,
   "metadata": {},
   "outputs": [
    {
     "data": {
      "text/html": [
       "<div>\n",
       "<style scoped>\n",
       "    .dataframe tbody tr th:only-of-type {\n",
       "        vertical-align: middle;\n",
       "    }\n",
       "\n",
       "    .dataframe tbody tr th {\n",
       "        vertical-align: top;\n",
       "    }\n",
       "\n",
       "    .dataframe thead th {\n",
       "        text-align: right;\n",
       "    }\n",
       "</style>\n",
       "<table border=\"1\" class=\"dataframe\">\n",
       "  <thead>\n",
       "    <tr style=\"text-align: right;\">\n",
       "      <th></th>\n",
       "      <th>year_of_release</th>\n",
       "      <th>title</th>\n",
       "    </tr>\n",
       "    <tr>\n",
       "      <th>mov_id</th>\n",
       "      <th></th>\n",
       "      <th></th>\n",
       "    </tr>\n",
       "  </thead>\n",
       "  <tbody>\n",
       "    <tr>\n",
       "      <th>1</th>\n",
       "      <td>2003.0</td>\n",
       "      <td>Dinosaur Planet</td>\n",
       "    </tr>\n",
       "    <tr>\n",
       "      <th>2</th>\n",
       "      <td>2004.0</td>\n",
       "      <td>Isle of Man TT 2004 Review</td>\n",
       "    </tr>\n",
       "    <tr>\n",
       "      <th>3</th>\n",
       "      <td>1997.0</td>\n",
       "      <td>Character</td>\n",
       "    </tr>\n",
       "    <tr>\n",
       "      <th>4</th>\n",
       "      <td>1994.0</td>\n",
       "      <td>Paula Abdul's Get Up &amp; Dance</td>\n",
       "    </tr>\n",
       "    <tr>\n",
       "      <th>5</th>\n",
       "      <td>2004.0</td>\n",
       "      <td>The Rise and Fall of ECW</td>\n",
       "    </tr>\n",
       "  </tbody>\n",
       "</table>\n",
       "</div>"
      ],
      "text/plain": [
       "        year_of_release                         title\n",
       "mov_id                                               \n",
       "1                2003.0               Dinosaur Planet\n",
       "2                2004.0    Isle of Man TT 2004 Review\n",
       "3                1997.0                     Character\n",
       "4                1994.0  Paula Abdul's Get Up & Dance\n",
       "5                2004.0      The Rise and Fall of ECW"
      ]
     },
     "execution_count": 84,
     "metadata": {},
     "output_type": "execute_result"
    }
   ],
   "source": [
    "mov_title.head()"
   ]
  },
  {
   "cell_type": "code",
   "execution_count": 86,
   "metadata": {},
   "outputs": [
    {
     "data": {
      "text/plain": [
       "year_of_release                1997\n",
       "title              Vampire Journals\n",
       "Name: 67, dtype: object"
      ]
     },
     "execution_count": 86,
     "metadata": {},
     "output_type": "execute_result"
    }
   ],
   "source": [
    "## mv_id = 67\n",
    "mov_title.loc[mv_id]"
   ]
  },
  {
   "cell_type": "code",
   "execution_count": 91,
   "metadata": {},
   "outputs": [
    {
     "data": {
      "text/plain": [
       "270"
      ]
     },
     "execution_count": 91,
     "metadata": {},
     "output_type": "execute_result"
    }
   ],
   "source": [
    "# No.of users rated this movie\n",
    "train_sparse_matrix[:,mv_id].count_nonzero()"
   ]
  },
  {
   "cell_type": "code",
   "execution_count": 92,
   "metadata": {},
   "outputs": [
    {
     "data": {
      "text/plain": [
       "17284"
      ]
     },
     "execution_count": 92,
     "metadata": {},
     "output_type": "execute_result"
    }
   ],
   "source": [
    "# No. of similar movies\n",
    "mov_mov_sparse[:,mv_id].count_nonzero()"
   ]
  },
  {
   "cell_type": "code",
   "execution_count": 98,
   "metadata": {},
   "outputs": [],
   "source": [
    "similarities = mov_mov_sparse[mv_id].toarray().ravel()\n",
    "similar_indices = similarities.argsort()[::-1][1:]\n",
    "\n",
    "similarities[similar_indices]\n",
    "\n",
    "sim_indices = similarities.argsort()[::-1][1:]"
   ]
  },
  {
   "cell_type": "code",
   "execution_count": 97,
   "metadata": {},
   "outputs": [],
   "source": [
    "#taking top 100 similar movies"
   ]
  },
  {
   "cell_type": "code",
   "execution_count": 99,
   "metadata": {},
   "outputs": [
    {
     "data": {
      "image/png": "[encoded data removed]",
      "text/plain": [
       "<Figure size 432x288 with 1 Axes>"
      ]
     },
     "metadata": {},
     "output_type": "display_data"
    }
   ],
   "source": [
    "plt.plot(similarities[sim_indices],label = 'All movies')\n",
    "plt.plot(similarities[sim_indices[:100]],label = 'Top 100')\n",
    "plt.tick_params(labelsize = 15)\n",
    "plt.legend(fontsize = 20)\n",
    "plt.show()"
   ]
  },
  {
   "cell_type": "code",
   "execution_count": 100,
   "metadata": {},
   "outputs": [
    {
     "data": {
      "text/html": [
       "<div>\n",
       "<style scoped>\n",
       "    .dataframe tbody tr th:only-of-type {\n",
       "        vertical-align: middle;\n",
       "    }\n",
       "\n",
       "    .dataframe tbody tr th {\n",
       "        vertical-align: top;\n",
       "    }\n",
       "\n",
       "    .dataframe thead th {\n",
       "        text-align: right;\n",
       "    }\n",
       "</style>\n",
       "<table border=\"1\" class=\"dataframe\">\n",
       "  <thead>\n",
       "    <tr style=\"text-align: right;\">\n",
       "      <th></th>\n",
       "      <th>year_of_release</th>\n",
       "      <th>title</th>\n",
       "    </tr>\n",
       "    <tr>\n",
       "      <th>mov_id</th>\n",
       "      <th></th>\n",
       "      <th></th>\n",
       "    </tr>\n",
       "  </thead>\n",
       "  <tbody>\n",
       "    <tr>\n",
       "      <th>323</th>\n",
       "      <td>1999.0</td>\n",
       "      <td>Modern Vampires</td>\n",
       "    </tr>\n",
       "    <tr>\n",
       "      <th>4044</th>\n",
       "      <td>1998.0</td>\n",
       "      <td>Subspecies 4: Bloodstorm</td>\n",
       "    </tr>\n",
       "    <tr>\n",
       "      <th>1688</th>\n",
       "      <td>1993.0</td>\n",
       "      <td>To Sleep With a Vampire</td>\n",
       "    </tr>\n",
       "    <tr>\n",
       "      <th>13962</th>\n",
       "      <td>2001.0</td>\n",
       "      <td>Dracula: The Dark Prince</td>\n",
       "    </tr>\n",
       "    <tr>\n",
       "      <th>12053</th>\n",
       "      <td>1993.0</td>\n",
       "      <td>Dracula Rising</td>\n",
       "    </tr>\n",
       "    <tr>\n",
       "      <th>16279</th>\n",
       "      <td>2002.0</td>\n",
       "      <td>Vampires: Los Muertos</td>\n",
       "    </tr>\n",
       "    <tr>\n",
       "      <th>4667</th>\n",
       "      <td>1996.0</td>\n",
       "      <td>Vampirella</td>\n",
       "    </tr>\n",
       "    <tr>\n",
       "      <th>1900</th>\n",
       "      <td>1997.0</td>\n",
       "      <td>Club Vampire</td>\n",
       "    </tr>\n",
       "    <tr>\n",
       "      <th>13873</th>\n",
       "      <td>2001.0</td>\n",
       "      <td>The Breed</td>\n",
       "    </tr>\n",
       "    <tr>\n",
       "      <th>15867</th>\n",
       "      <td>2003.0</td>\n",
       "      <td>Dracula II: Ascension</td>\n",
       "    </tr>\n",
       "  </tbody>\n",
       "</table>\n",
       "</div>"
      ],
      "text/plain": [
       "        year_of_release                     title\n",
       "mov_id                                           \n",
       "323              1999.0           Modern Vampires\n",
       "4044             1998.0  Subspecies 4: Bloodstorm\n",
       "1688             1993.0   To Sleep With a Vampire\n",
       "13962            2001.0  Dracula: The Dark Prince\n",
       "12053            1993.0            Dracula Rising\n",
       "16279            2002.0     Vampires: Los Muertos\n",
       "4667             1996.0                Vampirella\n",
       "1900             1997.0              Club Vampire\n",
       "13873            2001.0                 The Breed\n",
       "15867            2003.0     Dracula II: Ascension"
      ]
     },
     "execution_count": 100,
     "metadata": {},
     "output_type": "execute_result"
    }
   ],
   "source": [
    "mov_title.loc[sim_indices[:10]]"
   ]
  },
  {
   "cell_type": "markdown",
   "metadata": {},
   "source": [
    "## Upto this point it was made earlier\n",
    "## Below this is the new addition to the project which was made today\n",
    "## But due to igh computational requirement this is being abonded at a certain point"
   ]
  },
  {
   "cell_type": "code",
   "execution_count": 9,
   "metadata": {},
   "outputs": [],
   "source": [
    "## time for data featuring and put this as a regression problem\n",
    "## we will do it for 500 users and 50 movies for training\n",
    "## and 250 users and 25 movies for testing"
   ]
  },
  {
   "cell_type": "code",
   "execution_count": 23,
   "metadata": {},
   "outputs": [
    {
     "name": "stdout",
     "output_type": "stream",
     "text": [
      "0:02:34.601720\n"
     ]
    }
   ],
   "source": [
    "if not os.path.isfile('train_sample_sparse.npz'):\n",
    "    start = datetime.now()\n",
    "    user,mvs,rate = sparse.find(train_sparse_matrix)\n",
    "\n",
    "    uniq_users = np.unique(user)\n",
    "    uniq_mvs = np.unique(mvs)\n",
    "\n",
    "    user_rand = np.random.choice(uniq_users,500,replace=False)\n",
    "    mvs_rand = np.random.choice(uniq_mvs,50,replace=False)\n",
    "\n",
    "    chk = np.logical_and(np.isin(user,uniq_users),np.isin(mvs,uniq_mvs))\n",
    "\n",
    "    train_sample_sparse = sparse.csr_matrix((rate[chk],(user[chk], mvs[chk])),shape=(max(uniq_users)+1,max(uniq_mvs)+1))\n",
    "\n",
    "    sparse.save_npz('train_sample_sparse.npz',train_sample_sparse)\n",
    "    print(datetime.now()-start)\n",
    "\n",
    "else:\n",
    "     train_sample_sparse = sparse.load_npz('train_sample_sparse.npz')"
   ]
  },
  {
   "cell_type": "code",
   "execution_count": 17,
   "metadata": {},
   "outputs": [
    {
     "name": "stdout",
     "output_type": "stream",
     "text": [
      "0:00:37.110682\n"
     ]
    }
   ],
   "source": [
    "if not os.path.isfile('test_sample_sparse.npz'):\n",
    "    start = datetime.now()\n",
    "    user,mvs,rate = sparse.find(test_sparse_matrix)\n",
    "\n",
    "    uniq_users = np.unique(user)\n",
    "    uniq_mvs = np.unique(mvs)\n",
    "\n",
    "    user_rand = np.random.choice(uniq_users,250,replace=False)\n",
    "    mvs_rand = np.random.choice(uniq_mvs,25,replace=False)\n",
    "\n",
    "    chk = np.logical_and(np.isin(user,uniq_users),np.isin(mvs,uniq_mvs))\n",
    "\n",
    "    test_sample_sparse = sparse.csr_matrix((rate[chk],(user[chk], mvs[chk])),shape=(max(uniq_users)+1,max(uniq_mvs)+1))\n",
    "\n",
    "    sparse.save_npz('test_sample_sparse.npz',test_sample_sparse)\n",
    "    print(datetime.now()-start)\n",
    "\n",
    "else:\n",
    "     test_sample_sparse = sparse.load_npz('test_sample_sparse.npz')"
   ]
  },
  {
   "cell_type": "code",
   "execution_count": 18,
   "metadata": {},
   "outputs": [],
   "source": [
    "sample_train_users, sample_train_movies, sample_train_ratings = sparse.find(train_sample_sparse)"
   ]
  },
  {
   "cell_type": "code",
   "execution_count": 21,
   "metadata": {},
   "outputs": [],
   "source": [
    "global_avg_rate_mov = get_avg_rating(train_sample_sparse,False)\n",
    "global_avg_rate_user = get_avg_rating(train_sample_sparse,True)"
   ]
  },
  {
   "cell_type": "code",
   "execution_count": 24,
   "metadata": {},
   "outputs": [
    {
     "name": "stdout",
     "output_type": "stream",
     "text": [
      "total number of rows =  80384405\n"
     ]
    },
    {
     "ename": "KeyboardInterrupt",
     "evalue": "",
     "output_type": "error",
     "traceback": [
      "\u001b[1;31m---------------------------------------------------------------------------\u001b[0m",
      "\u001b[1;31mKeyboardInterrupt\u001b[0m                         Traceback (most recent call last)",
      "\u001b[1;32m<ipython-input-24-4c6d89033d80>\u001b[0m in \u001b[0;36m<module>\u001b[1;34m\u001b[0m\n\u001b[0;32m     12\u001b[0m             \u001b[0mrow\u001b[0m\u001b[1;33m.\u001b[0m\u001b[0mappend\u001b[0m\u001b[1;33m(\u001b[0m\u001b[0mtrain_sample_sparse\u001b[0m\u001b[1;33m.\u001b[0m\u001b[0msum\u001b[0m\u001b[1;33m(\u001b[0m\u001b[1;33m)\u001b[0m\u001b[1;33m/\u001b[0m\u001b[0mtrain_sample_sparse\u001b[0m\u001b[1;33m.\u001b[0m\u001b[0mcount_nonzero\u001b[0m\u001b[1;33m(\u001b[0m\u001b[1;33m)\u001b[0m\u001b[1;33m)\u001b[0m\u001b[1;33m\u001b[0m\u001b[1;33m\u001b[0m\u001b[0m\n\u001b[0;32m     13\u001b[0m \u001b[1;33m\u001b[0m\u001b[0m\n\u001b[1;32m---> 14\u001b[1;33m             \u001b[0msim_user\u001b[0m \u001b[1;33m=\u001b[0m \u001b[0mcosine_similarity\u001b[0m\u001b[1;33m(\u001b[0m\u001b[0mtrain_sample_sparse\u001b[0m\u001b[1;33m[\u001b[0m\u001b[0muser\u001b[0m\u001b[1;33m]\u001b[0m\u001b[1;33m,\u001b[0m\u001b[0mtrain_sample_sparse\u001b[0m\u001b[1;33m)\u001b[0m\u001b[1;33m.\u001b[0m\u001b[0mravel\u001b[0m\u001b[1;33m(\u001b[0m\u001b[1;33m)\u001b[0m\u001b[1;33m\u001b[0m\u001b[1;33m\u001b[0m\u001b[0m\n\u001b[0m\u001b[0;32m     15\u001b[0m \u001b[1;33m\u001b[0m\u001b[0m\n\u001b[0;32m     16\u001b[0m             \u001b[0msim_user_idx\u001b[0m \u001b[1;33m=\u001b[0m \u001b[0mnp\u001b[0m\u001b[1;33m.\u001b[0m\u001b[0margsort\u001b[0m\u001b[1;33m(\u001b[0m\u001b[0msim_user\u001b[0m\u001b[1;33m)\u001b[0m\u001b[1;33m[\u001b[0m\u001b[1;36m1\u001b[0m\u001b[1;33m:\u001b[0m\u001b[1;33m]\u001b[0m\u001b[1;33m\u001b[0m\u001b[1;33m\u001b[0m\u001b[0m\n",
      "\u001b[1;32m~\\Anaconda3\\lib\\site-packages\\sklearn\\metrics\\pairwise.py\u001b[0m in \u001b[0;36mcosine_similarity\u001b[1;34m(X, Y, dense_output)\u001b[0m\n\u001b[0;32m   1174\u001b[0m \u001b[1;33m\u001b[0m\u001b[0m\n\u001b[0;32m   1175\u001b[0m     K = safe_sparse_dot(X_normalized, Y_normalized.T,\n\u001b[1;32m-> 1176\u001b[1;33m                         dense_output=dense_output)\n\u001b[0m\u001b[0;32m   1177\u001b[0m \u001b[1;33m\u001b[0m\u001b[0m\n\u001b[0;32m   1178\u001b[0m     \u001b[1;32mreturn\u001b[0m \u001b[0mK\u001b[0m\u001b[1;33m\u001b[0m\u001b[1;33m\u001b[0m\u001b[0m\n",
      "\u001b[1;32m~\\Anaconda3\\lib\\site-packages\\sklearn\\utils\\extmath.py\u001b[0m in \u001b[0;36msafe_sparse_dot\u001b[1;34m(a, b, dense_output)\u001b[0m\n\u001b[0;32m    149\u001b[0m             \u001b[0mret\u001b[0m \u001b[1;33m=\u001b[0m \u001b[0mnp\u001b[0m\u001b[1;33m.\u001b[0m\u001b[0mdot\u001b[0m\u001b[1;33m(\u001b[0m\u001b[0ma\u001b[0m\u001b[1;33m,\u001b[0m \u001b[0mb\u001b[0m\u001b[1;33m)\u001b[0m\u001b[1;33m\u001b[0m\u001b[1;33m\u001b[0m\u001b[0m\n\u001b[0;32m    150\u001b[0m     \u001b[1;32melse\u001b[0m\u001b[1;33m:\u001b[0m\u001b[1;33m\u001b[0m\u001b[1;33m\u001b[0m\u001b[0m\n\u001b[1;32m--> 151\u001b[1;33m         \u001b[0mret\u001b[0m \u001b[1;33m=\u001b[0m \u001b[0ma\u001b[0m \u001b[1;33m@\u001b[0m \u001b[0mb\u001b[0m\u001b[1;33m\u001b[0m\u001b[1;33m\u001b[0m\u001b[0m\n\u001b[0m\u001b[0;32m    152\u001b[0m \u001b[1;33m\u001b[0m\u001b[0m\n\u001b[0;32m    153\u001b[0m     if (sparse.issparse(a) and sparse.issparse(b)\n",
      "\u001b[1;32m~\\Anaconda3\\lib\\site-packages\\scipy\\sparse\\base.py\u001b[0m in \u001b[0;36m__matmul__\u001b[1;34m(self, other)\u001b[0m\n\u001b[0;32m    562\u001b[0m             raise ValueError(\"Scalar operands are not allowed, \"\n\u001b[0;32m    563\u001b[0m                              \"use '*' instead\")\n\u001b[1;32m--> 564\u001b[1;33m         \u001b[1;32mreturn\u001b[0m \u001b[0mself\u001b[0m\u001b[1;33m.\u001b[0m\u001b[0m__mul__\u001b[0m\u001b[1;33m(\u001b[0m\u001b[0mother\u001b[0m\u001b[1;33m)\u001b[0m\u001b[1;33m\u001b[0m\u001b[1;33m\u001b[0m\u001b[0m\n\u001b[0m\u001b[0;32m    565\u001b[0m \u001b[1;33m\u001b[0m\u001b[0m\n\u001b[0;32m    566\u001b[0m     \u001b[1;32mdef\u001b[0m \u001b[0m__rmatmul__\u001b[0m\u001b[1;33m(\u001b[0m\u001b[0mself\u001b[0m\u001b[1;33m,\u001b[0m \u001b[0mother\u001b[0m\u001b[1;33m)\u001b[0m\u001b[1;33m:\u001b[0m\u001b[1;33m\u001b[0m\u001b[1;33m\u001b[0m\u001b[0m\n",
      "\u001b[1;32m~\\Anaconda3\\lib\\site-packages\\scipy\\sparse\\base.py\u001b[0m in \u001b[0;36m__mul__\u001b[1;34m(self, other)\u001b[0m\n\u001b[0;32m    482\u001b[0m             \u001b[1;32mif\u001b[0m \u001b[0mself\u001b[0m\u001b[1;33m.\u001b[0m\u001b[0mshape\u001b[0m\u001b[1;33m[\u001b[0m\u001b[1;36m1\u001b[0m\u001b[1;33m]\u001b[0m \u001b[1;33m!=\u001b[0m \u001b[0mother\u001b[0m\u001b[1;33m.\u001b[0m\u001b[0mshape\u001b[0m\u001b[1;33m[\u001b[0m\u001b[1;36m0\u001b[0m\u001b[1;33m]\u001b[0m\u001b[1;33m:\u001b[0m\u001b[1;33m\u001b[0m\u001b[1;33m\u001b[0m\u001b[0m\n\u001b[0;32m    483\u001b[0m                 \u001b[1;32mraise\u001b[0m \u001b[0mValueError\u001b[0m\u001b[1;33m(\u001b[0m\u001b[1;34m'dimension mismatch'\u001b[0m\u001b[1;33m)\u001b[0m\u001b[1;33m\u001b[0m\u001b[1;33m\u001b[0m\u001b[0m\n\u001b[1;32m--> 484\u001b[1;33m             \u001b[1;32mreturn\u001b[0m \u001b[0mself\u001b[0m\u001b[1;33m.\u001b[0m\u001b[0m_mul_sparse_matrix\u001b[0m\u001b[1;33m(\u001b[0m\u001b[0mother\u001b[0m\u001b[1;33m)\u001b[0m\u001b[1;33m\u001b[0m\u001b[1;33m\u001b[0m\u001b[0m\n\u001b[0m\u001b[0;32m    485\u001b[0m \u001b[1;33m\u001b[0m\u001b[0m\n\u001b[0;32m    486\u001b[0m         \u001b[1;31m# If it's a list or whatever, treat it like a matrix\u001b[0m\u001b[1;33m\u001b[0m\u001b[1;33m\u001b[0m\u001b[1;33m\u001b[0m\u001b[0m\n",
      "\u001b[1;32m~\\Anaconda3\\lib\\site-packages\\scipy\\sparse\\compressed.py\u001b[0m in \u001b[0;36m_mul_sparse_matrix\u001b[1;34m(self, other)\u001b[0m\n\u001b[0;32m    494\u001b[0m \u001b[1;33m\u001b[0m\u001b[0m\n\u001b[0;32m    495\u001b[0m         \u001b[0mmajor_axis\u001b[0m \u001b[1;33m=\u001b[0m \u001b[0mself\u001b[0m\u001b[1;33m.\u001b[0m\u001b[0m_swap\u001b[0m\u001b[1;33m(\u001b[0m\u001b[1;33m(\u001b[0m\u001b[0mM\u001b[0m\u001b[1;33m,\u001b[0m \u001b[0mN\u001b[0m\u001b[1;33m)\u001b[0m\u001b[1;33m)\u001b[0m\u001b[1;33m[\u001b[0m\u001b[1;36m0\u001b[0m\u001b[1;33m]\u001b[0m\u001b[1;33m\u001b[0m\u001b[1;33m\u001b[0m\u001b[0m\n\u001b[1;32m--> 496\u001b[1;33m         \u001b[0mother\u001b[0m \u001b[1;33m=\u001b[0m \u001b[0mself\u001b[0m\u001b[1;33m.\u001b[0m\u001b[0m__class__\u001b[0m\u001b[1;33m(\u001b[0m\u001b[0mother\u001b[0m\u001b[1;33m)\u001b[0m  \u001b[1;31m# convert to this format\u001b[0m\u001b[1;33m\u001b[0m\u001b[1;33m\u001b[0m\u001b[0m\n\u001b[0m\u001b[0;32m    497\u001b[0m \u001b[1;33m\u001b[0m\u001b[0m\n\u001b[0;32m    498\u001b[0m         idx_dtype = get_index_dtype((self.indptr, self.indices,\n",
      "\u001b[1;32m~\\Anaconda3\\lib\\site-packages\\scipy\\sparse\\compressed.py\u001b[0m in \u001b[0;36m__init__\u001b[1;34m(self, arg1, shape, dtype, copy)\u001b[0m\n\u001b[0;32m     35\u001b[0m                 \u001b[0marg1\u001b[0m \u001b[1;33m=\u001b[0m \u001b[0marg1\u001b[0m\u001b[1;33m.\u001b[0m\u001b[0mcopy\u001b[0m\u001b[1;33m(\u001b[0m\u001b[1;33m)\u001b[0m\u001b[1;33m\u001b[0m\u001b[1;33m\u001b[0m\u001b[0m\n\u001b[0;32m     36\u001b[0m             \u001b[1;32melse\u001b[0m\u001b[1;33m:\u001b[0m\u001b[1;33m\u001b[0m\u001b[1;33m\u001b[0m\u001b[0m\n\u001b[1;32m---> 37\u001b[1;33m                 \u001b[0marg1\u001b[0m \u001b[1;33m=\u001b[0m \u001b[0marg1\u001b[0m\u001b[1;33m.\u001b[0m\u001b[0masformat\u001b[0m\u001b[1;33m(\u001b[0m\u001b[0mself\u001b[0m\u001b[1;33m.\u001b[0m\u001b[0mformat\u001b[0m\u001b[1;33m)\u001b[0m\u001b[1;33m\u001b[0m\u001b[1;33m\u001b[0m\u001b[0m\n\u001b[0m\u001b[0;32m     38\u001b[0m             \u001b[0mself\u001b[0m\u001b[1;33m.\u001b[0m\u001b[0m_set_self\u001b[0m\u001b[1;33m(\u001b[0m\u001b[0marg1\u001b[0m\u001b[1;33m)\u001b[0m\u001b[1;33m\u001b[0m\u001b[1;33m\u001b[0m\u001b[0m\n\u001b[0;32m     39\u001b[0m \u001b[1;33m\u001b[0m\u001b[0m\n",
      "\u001b[1;32m~\\Anaconda3\\lib\\site-packages\\scipy\\sparse\\base.py\u001b[0m in \u001b[0;36masformat\u001b[1;34m(self, format, copy)\u001b[0m\n\u001b[0;32m    324\u001b[0m             \u001b[1;31m# Forward the copy kwarg, if it's accepted.\u001b[0m\u001b[1;33m\u001b[0m\u001b[1;33m\u001b[0m\u001b[1;33m\u001b[0m\u001b[0m\n\u001b[0;32m    325\u001b[0m             \u001b[1;32mtry\u001b[0m\u001b[1;33m:\u001b[0m\u001b[1;33m\u001b[0m\u001b[1;33m\u001b[0m\u001b[0m\n\u001b[1;32m--> 326\u001b[1;33m                 \u001b[1;32mreturn\u001b[0m \u001b[0mconvert_method\u001b[0m\u001b[1;33m(\u001b[0m\u001b[0mcopy\u001b[0m\u001b[1;33m=\u001b[0m\u001b[0mcopy\u001b[0m\u001b[1;33m)\u001b[0m\u001b[1;33m\u001b[0m\u001b[1;33m\u001b[0m\u001b[0m\n\u001b[0m\u001b[0;32m    327\u001b[0m             \u001b[1;32mexcept\u001b[0m \u001b[0mTypeError\u001b[0m\u001b[1;33m:\u001b[0m\u001b[1;33m\u001b[0m\u001b[1;33m\u001b[0m\u001b[0m\n\u001b[0;32m    328\u001b[0m                 \u001b[1;32mreturn\u001b[0m \u001b[0mconvert_method\u001b[0m\u001b[1;33m(\u001b[0m\u001b[1;33m)\u001b[0m\u001b[1;33m\u001b[0m\u001b[1;33m\u001b[0m\u001b[0m\n",
      "\u001b[1;32m~\\Anaconda3\\lib\\site-packages\\scipy\\sparse\\csc.py\u001b[0m in \u001b[0;36mtocsr\u001b[1;34m(self, copy)\u001b[0m\n\u001b[0;32m    148\u001b[0m                   \u001b[0mindptr\u001b[0m\u001b[1;33m,\u001b[0m\u001b[1;33m\u001b[0m\u001b[1;33m\u001b[0m\u001b[0m\n\u001b[0;32m    149\u001b[0m                   \u001b[0mindices\u001b[0m\u001b[1;33m,\u001b[0m\u001b[1;33m\u001b[0m\u001b[1;33m\u001b[0m\u001b[0m\n\u001b[1;32m--> 150\u001b[1;33m                   data)\n\u001b[0m\u001b[0;32m    151\u001b[0m \u001b[1;33m\u001b[0m\u001b[0m\n\u001b[0;32m    152\u001b[0m         \u001b[1;32mfrom\u001b[0m \u001b[1;33m.\u001b[0m\u001b[0mcsr\u001b[0m \u001b[1;32mimport\u001b[0m \u001b[0mcsr_matrix\u001b[0m\u001b[1;33m\u001b[0m\u001b[1;33m\u001b[0m\u001b[0m\n",
      "\u001b[1;31mKeyboardInterrupt\u001b[0m: "
     ]
    }
   ],
   "source": [
    "if not os.path.isfile('train-model.csv'):\n",
    "    start = datetime.now()\n",
    "    print('total number of rows = ',len(sample_train_ratings))\n",
    "    \n",
    "    with open('train_model.csv',mode='w') as file:\n",
    "        cnt=0\n",
    "        \n",
    "        for user,movie,rate in zip(sample_train_users,sample_train_movies,sample_train_ratings):\n",
    "            row = []\n",
    "            row.append(user)\n",
    "            row.append(movie)\n",
    "            row.append(train_sample_sparse.sum()/train_sample_sparse.count_nonzero())\n",
    "            \n",
    "            sim_user = cosine_similarity(train_sample_sparse[user],train_sample_sparse).ravel()\n",
    "            \n",
    "            sim_user_idx = np.argsort(sim_user)[1:]\n",
    "            sim_user_rate = train_sample_sparse[sim_user_idx, movie].toarray().ravel()\n",
    "            top_sim_user_rate = list(sim_user_rate[sim_user_rate != 0][:5])\n",
    "            top_sim_user_rate.extend([global_avg_rate_mov[movie]]*(5-len(top_sim_user_rate)))\n",
    "            \n",
    "            row.extend(top_sim_user_rate)\n",
    "            \n",
    "            row.append(global_avg_rate_user[user])\n",
    "            row.append(global_avg_rate_mov[movie])\n",
    "            row.append(rate)\n",
    "            \n",
    "            file.write(\",\".join(map(str, row)))\n",
    "            file.write(\"\\n\")\n",
    "            \n",
    "            cnt +=1\n",
    "            \n",
    "            if cnt%2000==0:\n",
    "                print('Time for {} rows: {}'.print(cnt,(datetime.now()-start)))\n",
    "                \n",
    "    print('total time = {}'.format(datetime.now()-start))"
   ]
  },
  {
   "cell_type": "markdown",
   "metadata": {},
   "source": [
    "## the above step took more than an hour to process and at this rate it would take nearly 4 months to compute with this specifications, so had to drop here\n",
    "\n",
    "reimplementing this project again took straight 11 hours. I hope my work pleases you."
   ]
  },
  {
   "cell_type": "code",
   "execution_count": null,
   "metadata": {},
   "outputs": [],
   "source": []
  }
 ],
 "metadata": {
  "kernelspec": {
   "display_name": "Python 3",
   "language": "python",
   "name": "python3"
  },
  "language_info": {
   "codemirror_mode": {
    "name": "ipython",
    "version": 3
   },
   "file_extension": ".py",
   "mimetype": "text/x-python",
   "name": "python",
   "nbconvert_exporter": "python",
   "pygments_lexer": "ipython3",
   "version": "3.7.4"
  }
 },
 "nbformat": 4,
 "nbformat_minor": 2
}
